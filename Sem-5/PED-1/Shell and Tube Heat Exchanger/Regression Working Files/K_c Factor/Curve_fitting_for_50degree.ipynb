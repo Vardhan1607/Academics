{
  "nbformat": 4,
  "nbformat_minor": 0,
  "metadata": {
    "kernelspec": {
      "display_name": "Python 3",
      "language": "python",
      "name": "python3"
    },
    "language_info": {
      "codemirror_mode": {
        "name": "ipython",
        "version": 3
      },
      "file_extension": ".py",
      "mimetype": "text/x-python",
      "name": "python",
      "nbconvert_exporter": "python",
      "pygments_lexer": "ipython3",
      "version": "3.7.4"
    },
    "colab": {
      "name": "Curve fitting for 50degree.ipynb",
      "provenance": []
    }
  },
  "cells": [
    {
      "cell_type": "code",
      "metadata": {
        "id": "uLbcftiw6GFg"
      },
      "source": [
        "import numpy as np\n",
        "from scipy.optimize import curve_fit \n",
        "  \n",
        "from matplotlib import pyplot as plt "
      ],
      "execution_count": 8,
      "outputs": []
    },
    {
      "cell_type": "code",
      "metadata": {
        "id": "S_PNLrl36GFk"
      },
      "source": [
        "import pandas as pd"
      ],
      "execution_count": 9,
      "outputs": []
    },
    {
      "cell_type": "code",
      "metadata": {
        "id": "Pk2u-8cM6GFk"
      },
      "source": [
        "df50 = pd.read_csv('Book1.csv')"
      ],
      "execution_count": 10,
      "outputs": []
    },
    {
      "cell_type": "code",
      "metadata": {
        "colab": {
          "base_uri": "https://localhost:8080/"
        },
        "id": "L72UB_bX6GFm",
        "outputId": "31a01dc9-e471-4f95-b668-56db545972cf"
      },
      "source": [
        "x = np.array(df50['t'])\n",
        "x"
      ],
      "execution_count": 11,
      "outputs": [
        {
          "output_type": "execute_result",
          "data": {
            "text/plain": [
              "array([ 10,  15,  20,  25,  30,  35,  40,  45,  50,  55,  60,  65,  70,\n",
              "        75,  80,  85,  90,  95, 100, 105])"
            ]
          },
          "metadata": {},
          "execution_count": 11
        }
      ]
    },
    {
      "cell_type": "code",
      "metadata": {
        "colab": {
          "base_uri": "https://localhost:8080/"
        },
        "id": "J0xMxm_n6GFn",
        "outputId": "8255f556-c76c-49eb-d2a5-cabf2210c455"
      },
      "source": [
        "y = np.array(df50['Cp'])\n",
        "y"
      ],
      "execution_count": 12,
      "outputs": [
        {
          "output_type": "execute_result",
          "data": {
            "text/plain": [
              "array([0.456, 0.459, 0.461, 0.464, 0.467, 0.469, 0.472, 0.474, 0.477,\n",
              "       0.48 , 0.482, 0.485, 0.488, 0.49 , 0.493, 0.495, 0.498, 0.501,\n",
              "       0.503, 0.506])"
            ]
          },
          "metadata": {},
          "execution_count": 12
        }
      ]
    },
    {
      "cell_type": "code",
      "metadata": {
        "id": "opMzl1XB66SP"
      },
      "source": [
        "df50 = pd.read_csv(\"/content/50 degree F Default Dataset.csv\")"
      ],
      "execution_count": 15,
      "outputs": []
    },
    {
      "cell_type": "code",
      "metadata": {
        "id": "s7iG4ubJ6GFn"
      },
      "source": [
        "param = np.poly1d(np.polyfit(df50['API'], df50['Kc'],deg=3))"
      ],
      "execution_count": 20,
      "outputs": []
    },
    {
      "cell_type": "code",
      "metadata": {
        "colab": {
          "base_uri": "https://localhost:8080/"
        },
        "id": "9KP9WTdk6GFo",
        "outputId": "6816e091-fc40-454c-a3d8-538543d552e3"
      },
      "source": [
        "param"
      ],
      "execution_count": 21,
      "outputs": [
        {
          "output_type": "execute_result",
          "data": {
            "text/plain": [
              "poly1d([-4.21431366e-05,  4.66881639e-03, -1.81443593e-01,  2.60511453e+00])"
            ]
          },
          "metadata": {},
          "execution_count": 21
        }
      ]
    }
  ]
}