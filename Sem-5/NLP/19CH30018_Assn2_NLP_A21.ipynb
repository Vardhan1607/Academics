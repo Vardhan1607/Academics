{
  "nbformat": 4,
  "nbformat_minor": 0,
  "metadata": {
    "accelerator": "GPU",
    "colab": {
      "name": "19CH30018_Assn2_NLP_A21.ipynb",
      "provenance": [],
      "collapsed_sections": []
    },
    "kernelspec": {
      "display_name": "Python 3",
      "language": "python",
      "name": "python3"
    },
    "language_info": {
      "codemirror_mode": {
        "name": "ipython",
        "version": 3
      },
      "file_extension": ".py",
      "mimetype": "text/x-python",
      "name": "python",
      "nbconvert_exporter": "python",
      "pygments_lexer": "ipython3",
      "version": "3.6.10"
    }
  },
  "cells": [
    {
      "cell_type": "markdown",
      "metadata": {
        "id": "zyJ25uz0kSaw"
      },
      "source": [
        "# **Assignment-2 for CS60075: Natural Language Processing**\n",
        "\n",
        "#### Instructor : Prof. Sudeshna Sarkar\n",
        "\n",
        "#### Teaching Assistants : Alapan Kuila, Aniruddha Roy, Prithwish Jana, Udit Dharmin Desai\n",
        "\n",
        "#### Date of Announcement: 15th Sept, 2021\n",
        "#### Deadline for Submission: 11.59pm on Friday, 24th Sept, 2021 \n",
        "#### Submit this .ipynb file, named as `<Your_Roll_Number>_Assn2_NLP_A21.ipynb`"
      ]
    },
    {
      "cell_type": "markdown",
      "metadata": {
        "id": "Ao1nhg9RknmF"
      },
      "source": [
        "The central idea of this assignment is to use Naive Bayes classifier and LSTM based classifier and compare the models by accuracy on IMDB dataset.  This dataset consists of 50k movie reviews (25k positive, 25k negative). You can download the dataset from https://www.kaggle.com/lakshmi25npathi/imdb-dataset-of-50k-movie-reviews\n",
        "\n"
      ]
    },
    {
      "cell_type": "markdown",
      "metadata": {
        "id": "ONM5Q4SCe9Mr"
      },
      "source": [
        "Please submit with outputs. "
      ]
    },
    {
      "cell_type": "code",
      "metadata": {
        "id": "ElRkQElWUMjG"
      },
      "source": [
        "import re\n",
        "import pandas as pd\n",
        "import numpy as np\n",
        "from sklearn.preprocessing import LabelEncoder\n",
        "from sklearn.model_selection import train_test_split\n",
        "from keras.preprocessing.text import Tokenizer\n",
        "from keras.preprocessing.sequence import pad_sequences\n",
        "import keras\n",
        "from sklearn.metrics import classification_report\n",
        "import nltk"
      ],
      "execution_count": 1,
      "outputs": []
    },
    {
      "cell_type": "code",
      "metadata": {
        "colab": {
          "base_uri": "https://localhost:8080/",
          "height": 204
        },
        "id": "3tEAEKheNp89",
        "outputId": "e1f7a1b0-8a41-496c-feaf-6e30481d360c"
      },
      "source": [
        "#Load the IMDB dataset. You can load it using pandas as dataframe\n",
        "data = pd.read_csv(\"/content/IMDB Dataset.csv\")\n",
        "data.head()"
      ],
      "execution_count": 2,
      "outputs": [
        {
          "output_type": "execute_result",
          "data": {
            "text/html": [
              "<div>\n",
              "<style scoped>\n",
              "    .dataframe tbody tr th:only-of-type {\n",
              "        vertical-align: middle;\n",
              "    }\n",
              "\n",
              "    .dataframe tbody tr th {\n",
              "        vertical-align: top;\n",
              "    }\n",
              "\n",
              "    .dataframe thead th {\n",
              "        text-align: right;\n",
              "    }\n",
              "</style>\n",
              "<table border=\"1\" class=\"dataframe\">\n",
              "  <thead>\n",
              "    <tr style=\"text-align: right;\">\n",
              "      <th></th>\n",
              "      <th>review</th>\n",
              "      <th>sentiment</th>\n",
              "    </tr>\n",
              "  </thead>\n",
              "  <tbody>\n",
              "    <tr>\n",
              "      <th>0</th>\n",
              "      <td>One of the other reviewers has mentioned that ...</td>\n",
              "      <td>positive</td>\n",
              "    </tr>\n",
              "    <tr>\n",
              "      <th>1</th>\n",
              "      <td>A wonderful little production. &lt;br /&gt;&lt;br /&gt;The...</td>\n",
              "      <td>positive</td>\n",
              "    </tr>\n",
              "    <tr>\n",
              "      <th>2</th>\n",
              "      <td>I thought this was a wonderful way to spend ti...</td>\n",
              "      <td>positive</td>\n",
              "    </tr>\n",
              "    <tr>\n",
              "      <th>3</th>\n",
              "      <td>Basically there's a family where a little boy ...</td>\n",
              "      <td>negative</td>\n",
              "    </tr>\n",
              "    <tr>\n",
              "      <th>4</th>\n",
              "      <td>Petter Mattei's \"Love in the Time of Money\" is...</td>\n",
              "      <td>positive</td>\n",
              "    </tr>\n",
              "  </tbody>\n",
              "</table>\n",
              "</div>"
            ],
            "text/plain": [
              "                                              review sentiment\n",
              "0  One of the other reviewers has mentioned that ...  positive\n",
              "1  A wonderful little production. <br /><br />The...  positive\n",
              "2  I thought this was a wonderful way to spend ti...  positive\n",
              "3  Basically there's a family where a little boy ...  negative\n",
              "4  Petter Mattei's \"Love in the Time of Money\" is...  positive"
            ]
          },
          "metadata": {},
          "execution_count": 2
        }
      ]
    },
    {
      "cell_type": "markdown",
      "metadata": {
        "id": "lK_Hn2f6VMP7"
      },
      "source": [
        "# Preprocessing\n",
        "PrePrecessing that needs to be done on lower cased corpus\n",
        "\n",
        "1. Remove html tags\n",
        "2. Remove URLS\n",
        "3. Remove non alphanumeric character\n",
        "4. Remove Stopwords\n",
        "5. Perform stemming and lemmatization\n",
        "\n",
        "You can use regex from re. "
      ]
    },
    {
      "cell_type": "code",
      "metadata": {
        "colab": {
          "base_uri": "https://localhost:8080/"
        },
        "id": "vu4cYmCjaJEu",
        "outputId": "6ab596fb-a63e-427f-bee5-bde6a133b5b9"
      },
      "source": [
        "from nltk.stem import PorterStemmer\n",
        "from nltk.stem import SnowballStemmer\n",
        "porter_stemmer = PorterStemmer()\n",
        "snowball_stemmer = SnowballStemmer(language='english')\n",
        "nltk.download('punkt')\n",
        "from nltk.tokenize import word_tokenize\n",
        "nltk.download('wordnet')\n",
        "from nltk.stem import WordNetLemmatizer\n",
        "nltk.download('stopwords')\n",
        "from nltk.corpus import stopwords\n",
        "stop_words = set(stopwords.words('english'))\n",
        "ps = PorterStemmer()\n",
        "lemmatizer = WordNetLemmatizer()"
      ],
      "execution_count": 3,
      "outputs": [
        {
          "output_type": "stream",
          "name": "stdout",
          "text": [
            "[nltk_data] Downloading package punkt to /root/nltk_data...\n",
            "[nltk_data]   Package punkt is already up-to-date!\n",
            "[nltk_data] Downloading package wordnet to /root/nltk_data...\n",
            "[nltk_data]   Package wordnet is already up-to-date!\n",
            "[nltk_data] Downloading package stopwords to /root/nltk_data...\n",
            "[nltk_data]   Package stopwords is already up-to-date!\n"
          ]
        }
      ]
    },
    {
      "cell_type": "code",
      "metadata": {
        "id": "5B5lHZPsVOXv"
      },
      "source": [
        "def remove_html_tags(raw_html):\n",
        "  return re.sub(r'<.*?>', '', raw_html)\n",
        "\n",
        "def remove_urls(raw_text):\n",
        "    raw_text = re.sub(r'http\\S+', '', raw_text)\n",
        "    return re.sub(r'www\\S+', '', raw_text)\n",
        "\n",
        "def remove_nonalpha(raw_text):\n",
        "  return re.sub(r'[^a-zA-Z\\s]', '', raw_text)\n",
        "\n",
        "def remove_lines(raw_text):\n",
        "  return re.sub(r'\\n',' ',raw_text)\n",
        "\n",
        "def lemme_stem_stop(raw_text):\n",
        "  words = word_tokenize(raw_text)\n",
        "  final_words=[]\n",
        "  for word in words:\n",
        "    word = word.lower()\n",
        "    if word not in stop_words:\n",
        "      word = snowball_stemmer.stem(word)\n",
        "      final_words.append(word)\n",
        "  return \" \".join(final_words)\n",
        "\n",
        "def pre_processing(raw_text):\n",
        "  return lemme_stem_stop(remove_lines(remove_nonalpha(remove_urls(remove_html_tags(raw_text))))) "
      ],
      "execution_count": 4,
      "outputs": []
    },
    {
      "cell_type": "code",
      "metadata": {
        "colab": {
          "base_uri": "https://localhost:8080/"
        },
        "id": "DyaSkfcvYGXk",
        "outputId": "3efbbd25-796b-4350-8efd-e45976be3fad"
      },
      "source": [
        "# Print Statistics of Data like avg length of sentence , proposition of data w.r.t class labels\n",
        "data['review'] = data['review'].apply(lambda x: pre_processing(x))\n",
        "data['sentiment'].value_counts()"
      ],
      "execution_count": 5,
      "outputs": [
        {
          "output_type": "execute_result",
          "data": {
            "text/plain": [
              "negative    25000\n",
              "positive    25000\n",
              "Name: sentiment, dtype: int64"
            ]
          },
          "metadata": {},
          "execution_count": 5
        }
      ]
    },
    {
      "cell_type": "code",
      "metadata": {
        "colab": {
          "base_uri": "https://localhost:8080/"
        },
        "id": "9LIVlFPIHfRe",
        "outputId": "32c59b9b-ae9c-4733-b105-1311c94df720"
      },
      "source": [
        "print(\"Sample Review after Pre-Processesing\")\n",
        "print(data[\"review\"][0])"
      ],
      "execution_count": 6,
      "outputs": [
        {
          "output_type": "stream",
          "name": "stdout",
          "text": [
            "Sample Review after Pre-Processesing\n",
            "one review mention watch oz episod youll hook right exact happen meth first thing struck oz brutal unflinch scene violenc set right word go trust show faint heart timid show pull punch regard drug sex violenc hardcor classic use wordit call oz nicknam given oswald maximum secur state penitentari focus main emerald citi experiment section prison cell glass front face inward privaci high agenda em citi home manyaryan muslim gangsta latino christian italian irish moreso scuffl death stare dodgi deal shadi agreement never far awayi would say main appeal show due fact goe show wouldnt dare forget pretti pictur paint mainstream audienc forget charm forget romanceoz doesnt mess around first episod ever saw struck nasti surreal couldnt say readi watch develop tast oz got accustom high level graphic violenc violenc injustic crook guard wholl sold nickel inmat wholl kill order get away well manner middl class inmat turn prison bitch due lack street skill prison experi watch oz may becom comfort uncomfort viewingthat get touch darker side\n"
          ]
        }
      ]
    },
    {
      "cell_type": "code",
      "metadata": {
        "colab": {
          "base_uri": "https://localhost:8080/"
        },
        "id": "0XqdvfyqqhhA",
        "outputId": "87e24bc3-34cb-42c2-b2f7-4fafcd3969db"
      },
      "source": [
        "length = data['review'].apply(lambda x: len(x.split(' ')))\n",
        "print('Average number of words in sentence after preprocessing = {}'.format(round(length.mean()))) \n",
        "print('Standard Deviation of number of words in sentence after preprocessing = {}'.format(length.std()))"
      ],
      "execution_count": 7,
      "outputs": [
        {
          "output_type": "stream",
          "name": "stdout",
          "text": [
            "Average number of words in sentence after preprocessing = 119\n",
            "Standard Deviation of number of words in sentence after preprocessing = 89.24570193473551\n"
          ]
        }
      ]
    },
    {
      "cell_type": "code",
      "metadata": {
        "colab": {
          "base_uri": "https://localhost:8080/",
          "height": 336
        },
        "id": "2_qqL-dqqunp",
        "outputId": "4f7a38d4-9b5c-4b1e-de88-ef22483f5c4a"
      },
      "source": [
        "import matplotlib.pyplot as plt\n",
        "plt.figure(figsize=(7,5))\n",
        "plt.hist(length, bins=100,density=1, histtype='step',color=\"r\")\n",
        "plt.title('Review lengths')\n",
        "plt.show()"
      ],
      "execution_count": 9,
      "outputs": [
        {
          "output_type": "display_data",
          "data": {
            "image/png": "[encoded data removed]",
            "text/plain": [
              "<Figure size 504x360 with 1 Axes>"
            ]
          },
          "metadata": {
            "needs_background": "light"
          }
        }
      ]
    },
    {
      "cell_type": "markdown",
      "metadata": {
        "id": "_FkJ-e2pUwun"
      },
      "source": [
        "# Naive Bayes classifier"
      ]
    },
    {
      "cell_type": "code",
      "metadata": {
        "id": "eVq-mN28U_J4"
      },
      "source": [
        "# get reviews column from df\n",
        "reviews = data[\"review\"]\n",
        "\n",
        "# get labels column from df\n",
        "labels = data[\"sentiment\"]"
      ],
      "execution_count": 10,
      "outputs": []
    },
    {
      "cell_type": "code",
      "metadata": {
        "colab": {
          "base_uri": "https://localhost:8080/"
        },
        "id": "Ljo5NquhXTXr",
        "outputId": "2d98bbf1-0ede-4708-92b7-9c9b7b31204c"
      },
      "source": [
        "# Use label encoder to encode labels. Convert to 0/1\n",
        "encoder = LabelEncoder()\n",
        "encoded_labels = encoder.fit_transform(labels)\n",
        "\n",
        "# print(enc.classes_)\n",
        "print(encoder.classes_)"
      ],
      "execution_count": 13,
      "outputs": [
        {
          "output_type": "stream",
          "name": "stdout",
          "text": [
            "['negative' 'positive']\n"
          ]
        }
      ]
    },
    {
      "cell_type": "code",
      "metadata": {
        "id": "wzG-C_EVWWET"
      },
      "source": [
        "# Split the data into train and test (80% - 20%). \n",
        "# Use stratify in train_test_split so that both train and test have similar ratio of positive and negative samples.\n",
        "train_sentences, test_sentences, train_labels, test_labels = train_test_split(reviews, encoded_labels, test_size=0.2, random_state=123, stratify=labels)"
      ],
      "execution_count": 14,
      "outputs": []
    },
    {
      "cell_type": "markdown",
      "metadata": {
        "id": "Bz1YdsSkiWCX"
      },
      "source": [
        "Here there are two approaches possible for building vocabulary for the naive Bayes.\n",
        "1. Take the whole data (train + test) to build the vocab. In this way while testing there is no word which will be out of vocabulary.\n",
        "2. Take the train data to build vocab. In this case, some words from the test set may not be in vocab and hence one needs to perform smoothing so that one the probability term is not zero.\n",
        " \n",
        "You are supposed to go by the 2nd approach.\n",
        " \n",
        "Also building vocab by taking all words in the train set is memory intensive, hence you are required to build vocab by choosing the top 2000 - 3000 frequent words in the training corpus.\n",
        "\n",
        "> $ P(x_i | w_j) = \\frac{ N_{x_i,w_j}\\, +\\, \\alpha }{ N_{w_j}\\, +\\, \\alpha*d} $\n",
        "\n",
        "\n",
        "$N_{x_i,w_j}$ : Number of times feature $x_i$ appears in samples of class $w_j$\n",
        "\n",
        "$N_{w_j}$ : Total count of features in class $w_j$\n",
        "\n",
        "$\\alpha$ : Parameter for additive smoothing. Here consider $\\alpha$ = 1\n",
        "\n",
        "$d$ : Dimentionality of the feature vector  $x = [x_1,x_2,...,x_d]$. In our case its the vocab size.\n",
        "\n",
        "\n",
        "\n",
        "\n"
      ]
    },
    {
      "cell_type": "code",
      "metadata": {
        "id": "PbpuMZM3JvAr",
        "colab": {
          "base_uri": "https://localhost:8080/",
          "height": 419
        },
        "outputId": "05850b33-efb7-41e0-9b75-703bf07df6cb"
      },
      "source": [
        "train_df = pd.DataFrame({\"train_sentences\":train_sentences,\"train_labels\":train_labels},columns=[\"train_sentences\",\"train_labels\"])\n",
        "train_df"
      ],
      "execution_count": 15,
      "outputs": [
        {
          "output_type": "execute_result",
          "data": {
            "text/html": [
              "<div>\n",
              "<style scoped>\n",
              "    .dataframe tbody tr th:only-of-type {\n",
              "        vertical-align: middle;\n",
              "    }\n",
              "\n",
              "    .dataframe tbody tr th {\n",
              "        vertical-align: top;\n",
              "    }\n",
              "\n",
              "    .dataframe thead th {\n",
              "        text-align: right;\n",
              "    }\n",
              "</style>\n",
              "<table border=\"1\" class=\"dataframe\">\n",
              "  <thead>\n",
              "    <tr style=\"text-align: right;\">\n",
              "      <th></th>\n",
              "      <th>train_sentences</th>\n",
              "      <th>train_labels</th>\n",
              "    </tr>\n",
              "  </thead>\n",
              "  <tbody>\n",
              "    <tr>\n",
              "      <th>29602</th>\n",
              "      <td>ive seen lot tv movi time student major normal...</td>\n",
              "      <td>1</td>\n",
              "    </tr>\n",
              "    <tr>\n",
              "      <th>45781</th>\n",
              "      <td>oscarwin short film minut base short stori wil...</td>\n",
              "      <td>1</td>\n",
              "    </tr>\n",
              "    <tr>\n",
              "      <th>13416</th>\n",
              "      <td>didnt writer movi see three love origin though...</td>\n",
              "      <td>0</td>\n",
              "    </tr>\n",
              "    <tr>\n",
              "      <th>46554</th>\n",
              "      <td>coupl week saw movi began remind john carpent ...</td>\n",
              "      <td>1</td>\n",
              "    </tr>\n",
              "    <tr>\n",
              "      <th>31434</th>\n",
              "      <td>watch malayalam movi boe boe made turn probabl...</td>\n",
              "      <td>0</td>\n",
              "    </tr>\n",
              "    <tr>\n",
              "      <th>...</th>\n",
              "      <td>...</td>\n",
              "      <td>...</td>\n",
              "    </tr>\n",
              "    <tr>\n",
              "      <th>25378</th>\n",
              "      <td>movi move much slowli tasteth concept stori re...</td>\n",
              "      <td>0</td>\n",
              "    </tr>\n",
              "    <tr>\n",
              "      <th>22032</th>\n",
              "      <td>two hand good addit australian film cataloguei...</td>\n",
              "      <td>1</td>\n",
              "    </tr>\n",
              "    <tr>\n",
              "      <th>40319</th>\n",
              "      <td>bob clampett hep cat distinct averag cartoon r...</td>\n",
              "      <td>0</td>\n",
              "    </tr>\n",
              "    <tr>\n",
              "      <th>28573</th>\n",
              "      <td>film brokedown palac direct jonathan kaplan tw...</td>\n",
              "      <td>1</td>\n",
              "    </tr>\n",
              "    <tr>\n",
              "      <th>1222</th>\n",
              "      <td>wild rebel fun bad way also frustrat due actua...</td>\n",
              "      <td>0</td>\n",
              "    </tr>\n",
              "  </tbody>\n",
              "</table>\n",
              "<p>40000 rows × 2 columns</p>\n",
              "</div>"
            ],
            "text/plain": [
              "                                         train_sentences  train_labels\n",
              "29602  ive seen lot tv movi time student major normal...             1\n",
              "45781  oscarwin short film minut base short stori wil...             1\n",
              "13416  didnt writer movi see three love origin though...             0\n",
              "46554  coupl week saw movi began remind john carpent ...             1\n",
              "31434  watch malayalam movi boe boe made turn probabl...             0\n",
              "...                                                  ...           ...\n",
              "25378  movi move much slowli tasteth concept stori re...             0\n",
              "22032  two hand good addit australian film cataloguei...             1\n",
              "40319  bob clampett hep cat distinct averag cartoon r...             0\n",
              "28573  film brokedown palac direct jonathan kaplan tw...             1\n",
              "1222   wild rebel fun bad way also frustrat due actua...             0\n",
              "\n",
              "[40000 rows x 2 columns]"
            ]
          },
          "metadata": {},
          "execution_count": 15
        }
      ]
    },
    {
      "cell_type": "code",
      "metadata": {
        "id": "1cllNfGmUr77"
      },
      "source": [
        "from sklearn.feature_extraction.text import CountVectorizer\n",
        "# Use Count vectorizer to get frequency of the words\n",
        "from collections import Counter \n",
        "import random\n",
        "def vocab(sentences,n=random.randint(2000,3001)):\n",
        "  vectorizer = CountVectorizer(max_features = n)\n",
        "  sents = vectorizer.fit_transform(sentences)\n",
        "  return Counter(dict(zip(list(vectorizer.get_feature_names()), sents.sum(axis=0).A1))),n"
      ],
      "execution_count": 16,
      "outputs": []
    },
    {
      "cell_type": "code",
      "metadata": {
        "id": "z1LBEZ83_qis"
      },
      "source": [
        "train_sentences=train_sentences.to_numpy()\n",
        "final_vocab,n = vocab(train_sentences)"
      ],
      "execution_count": 17,
      "outputs": []
    },
    {
      "cell_type": "code",
      "metadata": {
        "id": "ELW_YdaKvIQP"
      },
      "source": [
        "def sentiment_corpus(sentences,labels,final_vocab=final_vocab):\n",
        "  features_pos,features_neg={},{}\n",
        "  n_pos,n_neg = 0,0\n",
        "  for i in range(len(sentences)):\n",
        "    words=sentences[i].split(' ')\n",
        "    if labels[i] == 1:\n",
        "      for word in words:\n",
        "        if word in final_vocab:\n",
        "          n_pos+=1\n",
        "          if word in features_pos:\n",
        "            features_pos[word]+=1\n",
        "          else:\n",
        "            features_pos[word]=1\n",
        "    else:\n",
        "      for word in words:\n",
        "        if word in final_vocab:\n",
        "          n_neg+=1\n",
        "          if word in features_neg:\n",
        "            features_neg[word]+=1\n",
        "          else:\n",
        "            features_neg[word]=1\n",
        "  return features_pos,features_neg,n_pos,n_neg"
      ],
      "execution_count": 18,
      "outputs": []
    },
    {
      "cell_type": "code",
      "metadata": {
        "id": "jsFaNIJ3vUyo"
      },
      "source": [
        "features_pos,features_neg,n_pos,n_neg = sentiment_corpus(train_sentences,train_labels)"
      ],
      "execution_count": 19,
      "outputs": []
    },
    {
      "cell_type": "code",
      "metadata": {
        "id": "X7zmjW4L1fwT"
      },
      "source": [
        "# Use laplace smoothing for words in test set not present in vocab of train set\n",
        "def probability(word,sentiment,features_pos=features_pos,features_neg=features_neg,n_pos=n_pos,n_neg=n_neg,n=3000):\n",
        "  prob=0\n",
        "  if sentiment==1:\n",
        "    if word in features_pos:\n",
        "      prob=(features_pos[word]+1)/(n_pos+n)\n",
        "    else:\n",
        "      prob=1/(n_pos+n)\n",
        "  else:\n",
        "    if word in features_neg:\n",
        "      prob=(features_neg[word]+1)/(n_neg+n)\n",
        "    else:\n",
        "      prob=1/(n_neg+n)\n",
        "    \n",
        "  return np.log(prob)  "
      ],
      "execution_count": 20,
      "outputs": []
    },
    {
      "cell_type": "code",
      "metadata": {
        "id": "9lgDvjBE1fqB"
      },
      "source": [
        "# Build the model. Don't use the model from sklearn\n",
        "def model(sentences):\n",
        "  predictions=[]\n",
        "  for sentence in sentences:\n",
        "    words = sentence.split(' ')\n",
        "    pos_prob=0\n",
        "    neg_prob=0\n",
        "    for word in words:\n",
        "      pos_prob+= probability(word, 1)\n",
        "      neg_prob+= probability(word, 0)\n",
        "    \n",
        "    predictions.append(1 if pos_prob>=neg_prob else 0)\n",
        "  return predictions"
      ],
      "execution_count": 21,
      "outputs": []
    },
    {
      "cell_type": "code",
      "metadata": {
        "id": "kLRCXfbMvDJG"
      },
      "source": [
        "prediction = model(test_sentences)"
      ],
      "execution_count": 22,
      "outputs": []
    },
    {
      "cell_type": "code",
      "metadata": {
        "colab": {
          "base_uri": "https://localhost:8080/",
          "height": 419
        },
        "id": "OjRvKIgp30zH",
        "outputId": "78b505ea-d3a8-40d4-d383-30a68ce6f3b1"
      },
      "source": [
        "test_df = pd.DataFrame({\"test_sentences\":test_sentences,\"test_labels\":test_labels,\"predictions\":prediction},columns=[\"test_sentences\",\"test_labels\",\"predictions\"])\n",
        "test_df"
      ],
      "execution_count": 23,
      "outputs": [
        {
          "output_type": "execute_result",
          "data": {
            "text/html": [
              "<div>\n",
              "<style scoped>\n",
              "    .dataframe tbody tr th:only-of-type {\n",
              "        vertical-align: middle;\n",
              "    }\n",
              "\n",
              "    .dataframe tbody tr th {\n",
              "        vertical-align: top;\n",
              "    }\n",
              "\n",
              "    .dataframe thead th {\n",
              "        text-align: right;\n",
              "    }\n",
              "</style>\n",
              "<table border=\"1\" class=\"dataframe\">\n",
              "  <thead>\n",
              "    <tr style=\"text-align: right;\">\n",
              "      <th></th>\n",
              "      <th>test_sentences</th>\n",
              "      <th>test_labels</th>\n",
              "      <th>predictions</th>\n",
              "    </tr>\n",
              "  </thead>\n",
              "  <tbody>\n",
              "    <tr>\n",
              "      <th>16212</th>\n",
              "      <td>saw movi check rate imdb back thought wow must...</td>\n",
              "      <td>0</td>\n",
              "      <td>0</td>\n",
              "    </tr>\n",
              "    <tr>\n",
              "      <th>26046</th>\n",
              "      <td>ok admit watch movi mysteri scienc theater hug...</td>\n",
              "      <td>0</td>\n",
              "      <td>0</td>\n",
              "    </tr>\n",
              "    <tr>\n",
              "      <th>18424</th>\n",
              "      <td>charact unlik script aw wast talent deneuv aut...</td>\n",
              "      <td>0</td>\n",
              "      <td>0</td>\n",
              "    </tr>\n",
              "    <tr>\n",
              "      <th>2949</th>\n",
              "      <td>master director ching siu tung perhap popular ...</td>\n",
              "      <td>1</td>\n",
              "      <td>1</td>\n",
              "    </tr>\n",
              "    <tr>\n",
              "      <th>14913</th>\n",
              "      <td>probabl intend arti crime thriller fail count ...</td>\n",
              "      <td>0</td>\n",
              "      <td>0</td>\n",
              "    </tr>\n",
              "    <tr>\n",
              "      <th>...</th>\n",
              "      <td>...</td>\n",
              "      <td>...</td>\n",
              "      <td>...</td>\n",
              "    </tr>\n",
              "    <tr>\n",
              "      <th>13721</th>\n",
              "      <td>ive describ film surpris true mani respect sub...</td>\n",
              "      <td>1</td>\n",
              "      <td>1</td>\n",
              "    </tr>\n",
              "    <tr>\n",
              "      <th>2459</th>\n",
              "      <td>admit idea expect view high styliz piec could ...</td>\n",
              "      <td>1</td>\n",
              "      <td>1</td>\n",
              "    </tr>\n",
              "    <tr>\n",
              "      <th>20290</th>\n",
              "      <td>terribl disappoint citi men swept away citi go...</td>\n",
              "      <td>0</td>\n",
              "      <td>0</td>\n",
              "    </tr>\n",
              "    <tr>\n",
              "      <th>32939</th>\n",
              "      <td>man cant believ larg harsh negat comment movi ...</td>\n",
              "      <td>1</td>\n",
              "      <td>0</td>\n",
              "    </tr>\n",
              "    <tr>\n",
              "      <th>14066</th>\n",
              "      <td>never read book alway heard good thing movi ca...</td>\n",
              "      <td>1</td>\n",
              "      <td>1</td>\n",
              "    </tr>\n",
              "  </tbody>\n",
              "</table>\n",
              "<p>10000 rows × 3 columns</p>\n",
              "</div>"
            ],
            "text/plain": [
              "                                          test_sentences  ...  predictions\n",
              "16212  saw movi check rate imdb back thought wow must...  ...            0\n",
              "26046  ok admit watch movi mysteri scienc theater hug...  ...            0\n",
              "18424  charact unlik script aw wast talent deneuv aut...  ...            0\n",
              "2949   master director ching siu tung perhap popular ...  ...            1\n",
              "14913  probabl intend arti crime thriller fail count ...  ...            0\n",
              "...                                                  ...  ...          ...\n",
              "13721  ive describ film surpris true mani respect sub...  ...            1\n",
              "2459   admit idea expect view high styliz piec could ...  ...            1\n",
              "20290  terribl disappoint citi men swept away citi go...  ...            0\n",
              "32939  man cant believ larg harsh negat comment movi ...  ...            0\n",
              "14066  never read book alway heard good thing movi ca...  ...            1\n",
              "\n",
              "[10000 rows x 3 columns]"
            ]
          },
          "metadata": {},
          "execution_count": 23
        }
      ]
    },
    {
      "cell_type": "code",
      "metadata": {
        "colab": {
          "base_uri": "https://localhost:8080/"
        },
        "id": "AtQSl1zvW4DD",
        "outputId": "ffadc075-cea8-4c5a-f8d9-eb2f68fe092a"
      },
      "source": [
        "# Test the model on test set and report Accuracy\n",
        "from sklearn.metrics import accuracy_score\n",
        "print(classification_report(test_labels,prediction))\n",
        "print(\"Accuracy of the Naive Bayer's Classification Model:\",accuracy_score(prediction,test_labels)*100,\"%\")"
      ],
      "execution_count": 24,
      "outputs": [
        {
          "output_type": "stream",
          "name": "stdout",
          "text": [
            "              precision    recall  f1-score   support\n",
            "\n",
            "           0       0.84      0.83      0.84      5000\n",
            "           1       0.83      0.84      0.84      5000\n",
            "\n",
            "    accuracy                           0.84     10000\n",
            "   macro avg       0.84      0.84      0.84     10000\n",
            "weighted avg       0.84      0.84      0.84     10000\n",
            "\n",
            "Accuracy of the Naive Bayer's Classification Model: 83.7 %\n"
          ]
        }
      ]
    },
    {
      "cell_type": "markdown",
      "metadata": {
        "id": "WlNql0acU7sa"
      },
      "source": [
        "# *LSTM* based Classifier\n",
        "\n",
        "Use the above train and test splits."
      ]
    },
    {
      "cell_type": "code",
      "metadata": {
        "id": "SkqnvbUOXoN0"
      },
      "source": [
        "# Hyperparameters of the model\n",
        "vocab_size = 3000\n",
        "oov_tok = '<OOK>'\n",
        "embedding_dim = 100\n",
        "max_length = 150 # choose based on statistics, for example 150 to 200\n",
        "padding_type='post'\n",
        "trunc_type='post'"
      ],
      "execution_count": 25,
      "outputs": []
    },
    {
      "cell_type": "code",
      "metadata": {
        "id": "UeycEg9nZAOF"
      },
      "source": [
        "# tokenize sentences\n",
        "tokenizer = Tokenizer(num_words = vocab_size, oov_token=oov_tok)\n",
        "tokenizer.fit_on_texts(train_sentences)\n",
        "word_index = tokenizer.word_index\n",
        "\n",
        "# convert train dataset to sequence and pad sequences\n",
        "train_sequences = tokenizer.texts_to_sequences(train_sentences)\n",
        "train_padded = pad_sequences(train_sequences, padding='post', maxlen=max_length)\n",
        "\n",
        "# convert Test dataset to sequence and pad sequences\n",
        "test_sequences = tokenizer.texts_to_sequences(test_sentences)\n",
        "test_padded = pad_sequences(test_sequences, padding='post', maxlen=max_length)"
      ],
      "execution_count": 26,
      "outputs": []
    },
    {
      "cell_type": "code",
      "metadata": {
        "colab": {
          "base_uri": "https://localhost:8080/",
          "height": 336
        },
        "id": "909c8o_YpZtx",
        "outputId": "df10c1cb-eb4a-4964-ae42-53e69f129437"
      },
      "source": [
        "plt.figure(figsize=(7,5))\n",
        "plt.hist(length, bins=100, density=1, histtype='step',color=\"r\")\n",
        "plt.title('Review lengths')\n",
        "plt.show()"
      ],
      "execution_count": 27,
      "outputs": [
        {
          "output_type": "display_data",
          "data": {
            "image/png": "[encoded data removed]",
            "text/plain": [
              "<Figure size 504x360 with 1 Axes>"
            ]
          },
          "metadata": {
            "needs_background": "light"
          }
        }
      ]
    },
    {
      "cell_type": "code",
      "metadata": {
        "colab": {
          "base_uri": "https://localhost:8080/"
        },
        "id": "Mtw3w895ZP39",
        "outputId": "d9418660-d41a-46e0-c0eb-5fb6a39e4d78"
      },
      "source": [
        "# model initialization\n",
        "model = keras.Sequential([\n",
        "    keras.layers.Embedding(vocab_size, embedding_dim, input_length=max_length),\n",
        "    keras.layers.Bidirectional(keras.layers.LSTM(64)),\n",
        "    keras.layers.Dense(24, activation='relu'),\n",
        "    keras.layers.Dense(1, activation='sigmoid')\n",
        "])\n",
        "\n",
        "# compile model\n",
        "model.compile(loss='binary_crossentropy',\n",
        "              optimizer='adam',\n",
        "              metrics=['accuracy'])\n",
        "\n",
        "# model summary\n",
        "model.summary()"
      ],
      "execution_count": 28,
      "outputs": [
        {
          "output_type": "stream",
          "name": "stdout",
          "text": [
            "Model: \"sequential\"\n",
            "_________________________________________________________________\n",
            "Layer (type)                 Output Shape              Param #   \n",
            "=================================================================\n",
            "embedding (Embedding)        (None, 150, 100)          300000    \n",
            "_________________________________________________________________\n",
            "bidirectional (Bidirectional (None, 128)               84480     \n",
            "_________________________________________________________________\n",
            "dense (Dense)                (None, 24)                3096      \n",
            "_________________________________________________________________\n",
            "dense_1 (Dense)              (None, 1)                 25        \n",
            "=================================================================\n",
            "Total params: 387,601\n",
            "Trainable params: 387,601\n",
            "Non-trainable params: 0\n",
            "_________________________________________________________________\n"
          ]
        }
      ]
    },
    {
      "cell_type": "code",
      "metadata": {
        "colab": {
          "base_uri": "https://localhost:8080/"
        },
        "id": "skmaDJMnZTzc",
        "outputId": "a7f12013-f19f-4376-c6a7-12b8204b1c7e"
      },
      "source": [
        "num_epochs = 5\n",
        "history = model.fit(train_padded, train_labels, \n",
        "                    epochs=num_epochs, verbose=1, \n",
        "                    validation_split=0.1)"
      ],
      "execution_count": 29,
      "outputs": [
        {
          "output_type": "stream",
          "name": "stdout",
          "text": [
            "Epoch 1/5\n",
            "1125/1125 [==============================] - 98s 83ms/step - loss: 0.3873 - accuracy: 0.8271 - val_loss: 0.3131 - val_accuracy: 0.8692\n",
            "Epoch 2/5\n",
            "1125/1125 [==============================] - 90s 80ms/step - loss: 0.2884 - accuracy: 0.8834 - val_loss: 0.3135 - val_accuracy: 0.8673\n",
            "Epoch 3/5\n",
            "1125/1125 [==============================] - 90s 80ms/step - loss: 0.2556 - accuracy: 0.8970 - val_loss: 0.3285 - val_accuracy: 0.8610\n",
            "Epoch 4/5\n",
            "1125/1125 [==============================] - 90s 80ms/step - loss: 0.2183 - accuracy: 0.9147 - val_loss: 0.3479 - val_accuracy: 0.8605\n",
            "Epoch 5/5\n",
            "1125/1125 [==============================] - 89s 79ms/step - loss: 0.1847 - accuracy: 0.9301 - val_loss: 0.4045 - val_accuracy: 0.8635\n"
          ]
        }
      ]
    },
    {
      "cell_type": "code",
      "metadata": {
        "colab": {
          "base_uri": "https://localhost:8080/"
        },
        "id": "TjEhWEr5Zq7M",
        "outputId": "2865d976-12cd-43c8-f884-de8fd83e0ba6"
      },
      "source": [
        "# Calculate accuracy on Test data\n",
        "\n",
        "prediction = model.predict(test_padded)\n",
        "\n",
        "# Get probabilities\n",
        "print(prediction)\n",
        "\n",
        "predict=[]\n",
        "# Get labels based on probability 1 if p>= 0.5 else 0\n",
        "for i in prediction:\n",
        "  if i>=0.5:\n",
        "    predict.append(1)\n",
        "  else:\n",
        "    predict.append(0)\n",
        "\n",
        "# Accuracy : one can use classification_report from sklearn\n",
        "print(classification_report(test_labels,predict))\n",
        "print(\"Accuracy of the LSTM :\",accuracy_score(predict,test_labels)*100,\"%\")"
      ],
      "execution_count": 30,
      "outputs": [
        {
          "output_type": "stream",
          "name": "stdout",
          "text": [
            "[[0.06312712]\n",
            " [0.01015378]\n",
            " [0.01194079]\n",
            " ...\n",
            " [0.00137738]\n",
            " [0.1507678 ]\n",
            " [0.9860728 ]]\n",
            "              precision    recall  f1-score   support\n",
            "\n",
            "           0       0.87      0.87      0.87      5000\n",
            "           1       0.87      0.87      0.87      5000\n",
            "\n",
            "    accuracy                           0.87     10000\n",
            "   macro avg       0.87      0.87      0.87     10000\n",
            "weighted avg       0.87      0.87      0.87     10000\n",
            "\n",
            "Accuracy of the LSTM : 86.71 %\n"
          ]
        }
      ]
    },
    {
      "cell_type": "markdown",
      "metadata": {
        "id": "TIICV-ySOYL0"
      },
      "source": [
        "## Get predictions for random examples"
      ]
    },
    {
      "cell_type": "code",
      "metadata": {
        "colab": {
          "base_uri": "https://localhost:8080/"
        },
        "id": "m2RmfNL3OYL0",
        "outputId": "826c5be2-8ba3-4f65-d910-ba995dda9ed1"
      },
      "source": [
        "# reviews on which we need to predict\n",
        "sentence = [\"The movie was very touching and heart whelming\", \n",
        "            \"I have never seen a terrible movie like this\", \n",
        "            \"the movie plot is terrible but it had good acting\"]\n",
        "processed_sentences=[]\n",
        "for sent in sentence:\n",
        "  processed_sentences.append(pre_processing(sent))\n",
        "# convert to a sequence\n",
        "sequences = tokenizer.texts_to_sequences(processed_sentences)\n",
        "\n",
        "# pad the sequence\n",
        "padded =  pad_sequences(sequences, padding='post', maxlen=max_length)\n",
        "\n",
        "# Get probabilities\n",
        "\n",
        "predict = model.predict(padded)\n",
        "test_sent_prob=[]\n",
        "# Get labels based on probability 1 if p>= 0.5 else 0\n",
        "for i in predict:\n",
        "  if i>=0.5:\n",
        "    test_sent_prob.append(1)\n",
        "  else:\n",
        "    test_sent_prob.append(0)\n",
        "count=0\n",
        "for sent in sentence: \n",
        "  print(sent,\":\",\"Positive Review with a probability\" if test_sent_prob[count]==1 else \"Negative Review with a probability\",end=\" \")\n",
        "  print(predict[count][0])\n",
        "  count+=1\n",
        "print(\"-\"*100)\n",
        "\n",
        "count=0\n",
        "print(\"\\nFinal Predictions\\n\")\n",
        "for sent in sentence: \n",
        "  print(sent,\":\",\"Positive Review\" if test_sent_prob[count]==1 else \"Negative Review\")\n",
        "  count+=1\n",
        "print(\"-\"*100)"
      ],
      "execution_count": 32,
      "outputs": [
        {
          "output_type": "stream",
          "name": "stdout",
          "text": [
            "The movie was very touching and heart whelming : Positive Review with a probability 0.8453154\n",
            "I have never seen a terrible movie like this : Negative Review with a probability 0.15641141\n",
            "the movie plot is terrible but it had good acting : Negative Review with a probability 0.0655057\n",
            "----------------------------------------------------------------------------------------------------\n",
            "\n",
            "Final Predictions\n",
            "\n",
            "The movie was very touching and heart whelming : Positive Review\n",
            "I have never seen a terrible movie like this : Negative Review\n",
            "the movie plot is terrible but it had good acting : Negative Review\n",
            "----------------------------------------------------------------------------------------------------\n"
          ]
        }
      ]
    }
  ]
}